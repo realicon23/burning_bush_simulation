{
  "nbformat": 4,
  "nbformat_minor": 0,
  "metadata": {
    "colab": {
      "provenance": []
    },
    "kernelspec": {
      "name": "python3",
      "display_name": "Python 3"
    },
    "language_info": {
      "name": "python"
    }
  },
  "cells": [
    {
      "cell_type": "markdown",
      "source": [
        "**Libraries Importation**"
      ],
      "metadata": {
        "id": "UWS9QVuKRi7w"
      }
    },
    {
      "cell_type": "code",
      "source": [
        "import numpy as np\n",
        "from numba import jit\n",
        "import matplotlib.pyplot as plt\n",
        "import matplotlib.animation as animation\n",
        "from copy import deepcopy\n",
        "import matplotlib\n",
        "import matplotlib.colors as colors\n",
        "import time"
      ],
      "metadata": {
        "id": "XriO45oLR5MO"
      },
      "execution_count": 1,
      "outputs": []
    },
    {
      "cell_type": "markdown",
      "source": [
        "**Grid** **Color**"
      ],
      "metadata": {
        "id": "vS8PhRF1RueI"
      }
    },
    {
      "cell_type": "code",
      "source": [
        "mapColor= ['black', 'green', 'red']"
      ],
      "metadata": {
        "id": "lgOWBaH2R0_H"
      },
      "execution_count": 2,
      "outputs": []
    },
    {
      "cell_type": "markdown",
      "source": [
        "**Given Paramaters**"
      ],
      "metadata": {
        "id": "JQaY3YeVSBVU"
      }
    },
    {
      "cell_type": "code",
      "source": [
        "treeNotOnFire = 1\n",
        "treeOnFire = 2\n",
        "empty = 0"
      ],
      "metadata": {
        "id": "dVq-fq2DR-cr"
      },
      "execution_count": 3,
      "outputs": []
    },
    {
      "cell_type": "markdown",
      "source": [
        "**Forest Cell Grid initialization**"
      ],
      "metadata": {
        "id": "6RNPStlYScuv"
      }
    },
    {
      "cell_type": "code",
      "source": [
        "def initForestGrid(n, probTree, probBurning):\n",
        "    gridCell = np.zeros((n, n))\n",
        "    startTime = time.time();\n",
        "    for row in range(n):\n",
        "        for column in range(n):\n",
        "            if np.random.random() < probTree:\n",
        "                if np.random.random() < probBurning:\n",
        "                    gridCell[row][column] = treeOnFire\n",
        "                else:\n",
        "                    gridCell[row][column] = treeNotOnFire\n",
        "    return gridCell,startTime"
      ],
      "metadata": {
        "id": "HMWfPK2ySiHH"
      },
      "execution_count": 4,
      "outputs": []
    },
    {
      "cell_type": "markdown",
      "source": [
        "**Initialization of spread function**"
      ],
      "metadata": {
        "id": "nUfl9HusS8ks"
      }
    },
    {
      "cell_type": "code",
      "execution_count": 5,
      "metadata": {
        "id": "-lt3ZsTHckU1"
      },
      "outputs": [],
      "source": [
        "@jit(nopython=True, parallel=True)\n",
        "def apply_spread(grid, probImmune, probLightning):\n",
        "    n = grid.shape[0]\n",
        "    newGrid = np.zeros((n, n))\n",
        "    # create extended grid with periodic boundary conditions\n",
        "    extendedGrid = np.zeros((n+2, n+2))\n",
        "    extendedGrid[1:-1, 1:-1] = grid\n",
        "    extendedGrid[:,0] = extendedGrid[:,-2]\n",
        "    extendedGrid[:,-1] = extendedGrid[:,1]\n",
        "    extendedGrid[0,:] = extendedGrid[-2,:]\n",
        "    extendedGrid[-1,:] = extendedGrid[1,:]\n",
        "    # apply spread to internal cells of extended grid\n",
        "    for row in range(1, n+1):\n",
        "        for column in range(1, n+1):\n",
        "            if extendedGrid[row][column] == 0:\n",
        "                continue\n",
        "            if extendedGrid[row][column] == 2:\n",
        "                newGrid[row-1][column-1] = 0\n",
        "            elif extendedGrid[row][column] == 1:\n",
        "                newGrid[row-1][column-1] = 1\n",
        "                # Von Neumann neighbour\n",
        "                north = extendedGrid[row-1][column]\n",
        "                south = extendedGrid[row+1][column]\n",
        "                east =  extendedGrid[row][column-1]\n",
        "                west = extendedGrid[row][column+1]\n",
        "                \n",
        "                neighbors = [north,south,east,west]\n",
        "                if 2 in neighbors or (1 in neighbors and np.random.random() < probLightning):\n",
        "                    if np.random.random() < probImmune:\n",
        "                        newGrid[row-1][column-1] = treeNotOnFire\n",
        "                    else:\n",
        "                        newGrid[row-1][column-1] = treeOnFire\n",
        "    return newGrid\n",
        "\n"
      ]
    },
    {
      "cell_type": "markdown",
      "source": [
        "**Algorithm Explanation** \n",
        "\n",
        "1. creation of fire spread value \n",
        "\n",
        "2. Asigning value 0 to burnt area and still maintaining the value of untouc6. Using the nomba annotation to normalise the sequential approach.hed tree to be 1.\n",
        "\n",
        "3. Looping through row and column to implement moore eight direction movement.\n",
        "\n",
        "4. Checking the whether lightning would cause a tree to to burn or not.\n",
        "\n",
        "5. Lastly, assigning the value to be 1 when ligthning has no effect on it.\n",
        "\n"
      ],
      "metadata": {
        "id": "zsRGx5-pUiIz"
      }
    },
    {
      "cell_type": "markdown",
      "source": [
        "**Simulation Creation**"
      ],
      "metadata": {
        "id": "FVelUV8TTv2Q"
      }
    },
    {
      "cell_type": "code",
      "source": [
        "def simulateForestFire(n, probTree, probBurning, probImmune, probLightning, t):\n",
        "    grid = initForestGrid(n, probTree, probBurning)[0]\n",
        "    startTime = initForestGrid(n, probTree, probBurning)[1]\n",
        "    grids = [grid]\n",
        "\n",
        "    for i in range(t):\n",
        "        grid = apply_spread(grid, probImmune, probLightning)\n",
        "        grids.append(deepcopy(grid))\n",
        "    endTime = time.time()\n",
        "    computationTime = endTime - startTime\n",
        "    print(f'Computation time obtained for grid {n} is  {computationTime}')\n",
        "    return grids"
      ],
      "metadata": {
        "id": "J9o_zWu-TVol"
      },
      "execution_count": 6,
      "outputs": []
    },
    {
      "cell_type": "markdown",
      "source": [
        "**Visulaization of Fire**"
      ],
      "metadata": {
        "id": "4cctqXZUT4Z0"
      }
    },
    {
      "cell_type": "code",
      "source": [
        "def visualizeForestFire(grids):\n",
        "    fig, ax = plt.subplots()\n",
        "    colorMap = colors.ListedColormap(mapColor)\n",
        "    bounds = [0, 1, 2, 3]\n",
        "    norm = matplotlib.colors.BoundaryNorm(bounds, colorMap.N)\n",
        "    mat = ax.matshow(grids[0], cmap=colorMap, norm=norm)\n",
        "\n",
        "    def update(i):\n",
        "        mat.set_data(grids[i])\n",
        "        return [mat]\n",
        "\n",
        "    ani = animation.FuncAnimation(fig, update, frames=len(grids), interval=1000, blit=True)\n",
        "    ani.save('von_neumann_simulation_view.gif', writer='imagemagick')\n",
        "    plt.axis('off')\n",
        "    plt.show()\n"
      ],
      "metadata": {
        "id": "uQAAVDoFTYlX"
      },
      "execution_count": 7,
      "outputs": []
    },
    {
      "cell_type": "markdown",
      "source": [
        "**Looping through various value of n**"
      ],
      "metadata": {
        "id": "tals7RqiW-kF"
      }
    },
    {
      "cell_type": "code",
      "source": [
        "nValues = [100,400,800,1000]\n",
        "\n",
        "for n in nValues:\n",
        "  simulateForestFire(n, 0.8, 0.01, 0.3, 0.001, 30)"
      ],
      "metadata": {
        "colab": {
          "base_uri": "https://localhost:8080/"
        },
        "id": "36a6JD4dXF1e",
        "outputId": "40d2bf07-29e3-4e32-d01d-67b59f8c5da1"
      },
      "execution_count": 8,
      "outputs": [
        {
          "output_type": "stream",
          "name": "stdout",
          "text": [
            "Computation time obtained for grid 100 is  2.8695013523101807\n",
            "Computation time obtained for grid 400 is  0.33501267433166504\n",
            "Computation time obtained for grid 800 is  3.6338295936584473\n",
            "Computation time obtained for grid 1000 is  2.8918418884277344\n"
          ]
        }
      ]
    },
    {
      "cell_type": "markdown",
      "source": [
        "**Visualise a specific grid size**\n"
      ],
      "metadata": {
        "id": "EfKjMIwZUWxU"
      }
    },
    {
      "cell_type": "code",
      "source": [
        "grids = simulateForestFire(100, 0.8, 0.01, 0.3, 0.001, 30)\n",
        "visualizeForestFire(grids)"
      ],
      "metadata": {
        "colab": {
          "base_uri": "https://localhost:8080/",
          "height": 461
        },
        "id": "6wge1iSjtQ3N",
        "outputId": "d5eab5e9-dfc6-46df-ba76-9f4723ce4fa6"
      },
      "execution_count": 9,
      "outputs": [
        {
          "output_type": "stream",
          "name": "stderr",
          "text": [
            "WARNING:matplotlib.animation:MovieWriter imagemagick unavailable; using Pillow instead.\n"
          ]
        },
        {
          "output_type": "stream",
          "name": "stdout",
          "text": [
            "Computation time obtained for grid 100 is  0.02341938018798828\n"
          ]
        },
        {
          "output_type": "display_data",
          "data": {
            "text/plain": [
              "<Figure size 640x480 with 1 Axes>"
            ],
            "image/png": "[encoded data removed]"
          },
          "metadata": {}
        }
      ]
    },
    {
      "cell_type": "code",
      "source": [
        "import numpy as np  \n",
        "import matplotlib.pyplot as plt  \n",
        "\n",
        "  \n",
        "\n",
        "X = ['100 x 100','400 x 400','800 x 800','1000 x 1000'] \n",
        "\n",
        "parallel = [2.87,0.34,3.63,2.89] \n",
        "\n",
        "sequential  = [0.52,14.21,32.49,53.00] \n",
        "\n",
        "  \n",
        "\n",
        "X_axis = np.arange(len(X)) \n",
        "\n",
        "  \n",
        "\n",
        "plt.bar(X_axis - 0.2, parallel, 0.4, label = 'Parallel') \n",
        "\n",
        "plt.bar(X_axis + 0.2, sequential, 0.4, label = 'Sequential') \n",
        "\n",
        "  \n",
        "plt.xticks(X_axis, X) \n",
        "\n",
        "plt.xlabel(\"n\") \n",
        "\n",
        "plt.ylabel(\"parallel/sequential Computation time\") \n",
        "\n",
        "plt.title(\"Von Neuman Neighborhood of Parallel and Sequential computation time Graph\") \n",
        "plt.legend() \n",
        "plt.show() "
      ],
      "metadata": {
        "colab": {
          "base_uri": "https://localhost:8080/",
          "height": 441
        },
        "id": "ryr2NknrqhzM",
        "outputId": "7f9b2dad-60d1-4ee9-96e0-a7b17eb281dc"
      },
      "execution_count": 10,
      "outputs": [
        {
          "output_type": "display_data",
          "data": {
            "text/plain": [
              "<Figure size 640x480 with 1 Axes>"
            ],
            "image/png": "[encoded data removed]"
          },
          "metadata": {}
        }
      ]
    },
    {
      "cell_type": "code",
      "source": [],
      "metadata": {
        "id": "p8cnc91rrRMU"
      },
      "execution_count": null,
      "outputs": []
    }
  ]
}