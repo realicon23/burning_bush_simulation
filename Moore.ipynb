{
  "nbformat": 4,
  "nbformat_minor": 0,
  "metadata": {
    "colab": {
      "provenance": []
    },
    "kernelspec": {
      "name": "python3",
      "display_name": "Python 3"
    },
    "language_info": {
      "name": "python"
    }
  },
  "cells": [
    {
      "cell_type": "markdown",
      "source": [
        "**Libraries** **Importation**"
      ],
      "metadata": {
        "id": "AjM2q9gv1_GO"
      }
    },
    {
      "cell_type": "code",
      "source": [
        "import numpy as np\n",
        "from numba import jit\n",
        "import matplotlib.pyplot as plt\n",
        "import matplotlib.animation as animation\n",
        "from copy import deepcopy\n",
        "import time\n",
        "import matplotlib\n",
        "import matplotlib.colors as colors"
      ],
      "metadata": {
        "id": "WqmgWU0m2GpS"
      },
      "execution_count": 1,
      "outputs": []
    },
    {
      "cell_type": "markdown",
      "source": [
        "**Grid Color View**"
      ],
      "metadata": {
        "id": "8-ZwTAqJ_kq_"
      }
    },
    {
      "cell_type": "code",
      "source": [
        "mapColor= ['black', 'green', 'red']"
      ],
      "metadata": {
        "id": "GqRq8sRS_scK"
      },
      "execution_count": 2,
      "outputs": []
    },
    {
      "cell_type": "markdown",
      "source": [
        "**Given parameters**"
      ],
      "metadata": {
        "id": "0zLJwONS4rIC"
      }
    },
    {
      "cell_type": "code",
      "source": [
        "treeNotOnFire = 1\n",
        "treeOnFire = 2\n",
        "empty = 0"
      ],
      "metadata": {
        "id": "D4mImBQx4nQz"
      },
      "execution_count": 3,
      "outputs": []
    },
    {
      "cell_type": "markdown",
      "source": [
        "**Forest Cell Grid initialization**"
      ],
      "metadata": {
        "id": "b_w8grlm2adf"
      }
    },
    {
      "cell_type": "code",
      "source": [
        "def initForestGrid(n, probTree, probBurning):\n",
        "    startTime = time.time();\n",
        "    gridCell = np.zeros((n, n))\n",
        "    for row in range(n):\n",
        "        for column in range(n):\n",
        "            if np.random.random() < probTree:\n",
        "                if np.random.random() > probBurning:\n",
        "                    gridCell[row][column] = treeNotOnFire\n",
        "                else:\n",
        "                    gridCell[row][column] = treeOnFire\n",
        "    return gridCell,startTime"
      ],
      "metadata": {
        "id": "oHHv35Yl2yqO"
      },
      "execution_count": 4,
      "outputs": []
    },
    {
      "cell_type": "markdown",
      "source": [
        "**Algorithm explanation**\n",
        "\n",
        "1. Creation of a method that accepts three parameters.The number of grid cells, the probability of Tree availability and lastly the probability of the tree burning.\n",
        "\n",
        "2. use of numpy to generate zeros to initiate an empty space of size n rows and n column.\n",
        "\n",
        "3. Iterating through the empty generated rows and colums.\n",
        "\n",
        "4. Assiging possible values of having tree and further checking to asign the value to be either buring or not."
      ],
      "metadata": {
        "id": "m7B26roR2whV"
      }
    },
    {
      "cell_type": "markdown",
      "source": [
        "**Initialization of spread function**"
      ],
      "metadata": {
        "id": "zi0pypBQ7iPa"
      }
    },
    {
      "cell_type": "code",
      "source": [
        "\n",
        "#@jit(nopython=True, parallel=True)\n",
        "def applySpread(grid, probImmune, probLightning):\n",
        "    n = grid.shape[0]\n",
        "    newGrid = np.zeros((n, n))\n",
        "    for i in range(n):\n",
        "        for j in range(n):\n",
        "            if grid[i][j] == 0:\n",
        "                continue\n",
        "            if grid[i][j] == 2:\n",
        "                newGrid[i][j] = 0\n",
        "            elif grid[i][j] == 1:\n",
        "                newGrid[i][j] = 1\n",
        "                neighbors = []\n",
        "\n",
        "                #Moore Neighborhood implementation\n",
        "                if i > 0:\n",
        "                    neighbors.append(grid[i-1][j])\n",
        "                    if j > 0:\n",
        "                        neighbors.append(grid[i-1][j-1])\n",
        "                    if j < n-1:\n",
        "                        neighbors.append(grid[i-1][j+1])\n",
        "                if i < n-1:\n",
        "                    neighbors.append(grid[i+1][j])\n",
        "                    if j > 0:\n",
        "                        neighbors.append(grid[i+1][j-1])\n",
        "                    if j < n-1:\n",
        "                        neighbors.append(grid[i+1][j+1])\n",
        "                if j > 0:\n",
        "                    neighbors.append(grid[i][j-1])\n",
        "                if j < n-1:\n",
        "                    neighbors.append(grid[i][j+1])\n",
        "                if 2 in neighbors or (1 in neighbors and np.random.random() < probLightning):\n",
        "                    newGrid[i][j] = 2\n",
        "                    if np.random.random() < probImmune:\n",
        "                        newGrid[i][j] = 1\n",
        "    return newGrid"
      ],
      "metadata": {
        "id": "jr3ZlTHB8Qtj"
      },
      "execution_count": 5,
      "outputs": []
    },
    {
      "cell_type": "markdown",
      "source": [
        "**Algorithm Explanation** \n",
        "\n",
        "1. creation of fire spread value \n",
        "\n",
        "2. Asigning value 0 to burnt area and still maintaining the value of untouched tree to be 1.\n",
        "\n",
        "3. Looping through row and column to implement moore eight direction movement.\n",
        "\n",
        "4. Checking the whether lightning would cause a tree to to burn or not.\n",
        "\n",
        "5. Lastly, assigning the value to be 1 when ligthning has no effect on it.\n",
        "\n",
        "6. Using the nomba annotation to normalise the sequential approach."
      ],
      "metadata": {
        "id": "wpM6VOQ88gFs"
      }
    },
    {
      "cell_type": "markdown",
      "source": [
        "**Simulation Creation**"
      ],
      "metadata": {
        "id": "KMBVtakk-3Xk"
      }
    },
    {
      "cell_type": "code",
      "execution_count": 6,
      "metadata": {
        "id": "GPMiZR75nvD4"
      },
      "outputs": [],
      "source": [
        "def simulateForestFire(n, probTree, probBurning, probImmune, probLightning, timeStep):\n",
        "    createdGrid = initForestGrid(n, probTree, probBurning)[0]\n",
        "    startTime = initForestGrid(n, probTree, probBurning)[1]\n",
        "    grids = [createdGrid]\n",
        "\n",
        "    for i in range(timeStep):\n",
        "        createdGrid = applySpread(createdGrid, probImmune, probLightning)\n",
        "        grids.append(deepcopy(createdGrid))        \n",
        "    endTime = time.time()\n",
        "    computationTime = endTime - startTime\n",
        "    print(f'Computation time obtained for grid {n} is  {computationTime}')\n",
        "    return grids"
      ]
    },
    {
      "cell_type": "markdown",
      "source": [
        "**Algorithm Explanation**\n",
        "\n",
        "1. using the initForesGrid method to create grids\n",
        "\n",
        "2. Assigning the createdGrid into an array of Grid for each time step\n",
        "\n",
        "3. Appply the spread method at each step time\n",
        "\n",
        "4. outputing the grids created"
      ],
      "metadata": {
        "id": "TMbksxynAuFQ"
      }
    },
    {
      "cell_type": "markdown",
      "source": [
        "**Looping through various value of n**"
      ],
      "metadata": {
        "id": "7RD-h2SoW22H"
      }
    },
    {
      "cell_type": "code",
      "source": [
        "probabilityofTree = 0.8\n",
        "probabilityOfBurning = 0.01\n",
        "probabilityOfImmune = 0.3\n",
        "probabilityofLigthening = 0.001\n",
        "timeStep = 30\n",
        "\n",
        "#simulateForestFire(100, probabilityofTree,probabilityOfBurning,probabilityOfImmune,probabilityofLigthening,timeStep)\n",
        "nValues = [100,400,800,1000]\n",
        "\n",
        "for n in nValues:\n",
        " simulateForestFire(n, probabilityofTree,probabilityOfBurning,probabilityOfImmune,probabilityofLigthening,timeStep)\n",
        "\n"
      ],
      "metadata": {
        "colab": {
          "base_uri": "https://localhost:8080/"
        },
        "id": "LvRP87h9EDLX",
        "outputId": "f0cfd6aa-21f7-42bb-81e5-6eca9787db9c"
      },
      "execution_count": 7,
      "outputs": [
        {
          "output_type": "stream",
          "name": "stdout",
          "text": [
            "Computation time obtained for grid 100 is  0.7205801010131836\n",
            "Computation time obtained for grid 400 is  17.11632752418518\n",
            "Computation time obtained for grid 800 is  37.246652126312256\n",
            "Computation time obtained for grid 1000 is  60.81141376495361\n"
          ]
        }
      ]
    },
    {
      "cell_type": "code",
      "source": [],
      "metadata": {
        "id": "6zyNiMJeoLMr"
      },
      "execution_count": 7,
      "outputs": []
    },
    {
      "cell_type": "code",
      "source": [
        "def visualize_forest_fire(grids):\n",
        "    fig, ax = plt.subplots()\n",
        "    colorMap = colors.ListedColormap(mapColor)\n",
        "    bounds = [0, 1, 2, 3]\n",
        "    norm = matplotlib.colors.BoundaryNorm(bounds, colorMap.N)\n",
        "    mat = ax.matshow(grids[0], cmap=colorMap, norm=norm, aspect='auto')\n",
        "\n",
        "    def update(i):\n",
        "        mat.set_data(grids[i])\n",
        "        return [mat]\n",
        "\n",
        "    ani = animation.FuncAnimation(fig, update, frames=len(grids), interval=1000, blit=True)\n",
        "    ani.save('moore_fire_simulation_view.gif', writer='imagemagick')\n",
        "    plt.show()"
      ],
      "metadata": {
        "id": "yp9oKnTdAk9c"
      },
      "execution_count": 8,
      "outputs": []
    },
    {
      "cell_type": "markdown",
      "source": [
        "Visualise a specific grid size"
      ],
      "metadata": {
        "id": "RHDSFbnnHVy7"
      }
    },
    {
      "cell_type": "code",
      "source": [
        "n = 100\n",
        "grids = simulateForestFire(n, probabilityofTree,probabilityOfBurning,probabilityOfImmune,probabilityofLigthening,timeStep)\n",
        "\n",
        "visualize_forest_fire(grids)"
      ],
      "metadata": {
        "colab": {
          "base_uri": "https://localhost:8080/",
          "height": 470
        },
        "id": "De1OdJlKHT7F",
        "outputId": "906bf4ec-3734-4fd9-dc12-5105336bd875"
      },
      "execution_count": 9,
      "outputs": [
        {
          "output_type": "stream",
          "name": "stderr",
          "text": [
            "WARNING:matplotlib.animation:MovieWriter imagemagick unavailable; using Pillow instead.\n"
          ]
        },
        {
          "output_type": "stream",
          "name": "stdout",
          "text": [
            "Computation time obtained for grid 100 is  0.5313816070556641\n"
          ]
        },
        {
          "output_type": "display_data",
          "data": {
            "text/plain": [
              "<Figure size 640x480 with 1 Axes>"
            ],
            "image/png": "[encoded data removed]"
          },
          "metadata": {}
        }
      ]
    },
    {
      "cell_type": "code",
      "source": [
        "\n",
        "\n",
        "import numpy as np  \n",
        "import matplotlib.pyplot as plt  \n",
        "\n",
        "  \n",
        "\n",
        "X = ['100 x 100','400 x 400','800 x 800','1000 x 1000'] \n",
        "\n",
        "parallel = [4.60,1.06,3.44,3.75] \n",
        "\n",
        "sequential  = [0.68,14.69,42.38,59.36] \n",
        "\n",
        "  \n",
        "\n",
        "X_axis = np.arange(len(X)) \n",
        "\n",
        "  \n",
        "\n",
        "plt.bar(X_axis - 0.2, parallel, 0.4, label = 'Parallel') \n",
        "\n",
        "plt.bar(X_axis + 0.2, sequential, 0.4, label = 'Sequential') \n",
        "\n",
        "  \n",
        "plt.xticks(X_axis, X) \n",
        "\n",
        "plt.xlabel(\"n\") \n",
        "\n",
        "plt.ylabel(\"parallel/sequential Computation time\") \n",
        "\n",
        "plt.title(\"Moore Neighborhood of Parallel and Sequential computation time Graph\") \n",
        "plt.legend() \n",
        "plt.show() "
      ],
      "metadata": {
        "colab": {
          "base_uri": "https://localhost:8080/",
          "height": 472
        },
        "id": "TrByxzhMoOtV",
        "outputId": "3a334a0f-443d-4d88-cda1-bda83b963a7f"
      },
      "execution_count": 10,
      "outputs": [
        {
          "output_type": "display_data",
          "data": {
            "text/plain": [
              "<Figure size 640x480 with 1 Axes>"
            ],
            "image/png": "[encoded data removed]"
          },
          "metadata": {}
        }
      ]
    }
  ]
}